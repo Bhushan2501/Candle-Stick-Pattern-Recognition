{
 "cells": [
  {
   "cell_type": "code",
   "execution_count": 1,
   "id": "14e2404f",
   "metadata": {},
   "outputs": [],
   "source": [
    "import talib\n",
    "import yfinance as yf"
   ]
  },
  {
   "cell_type": "code",
   "execution_count": 2,
   "id": "73cf2467",
   "metadata": {},
   "outputs": [
    {
     "name": "stdout",
     "output_type": "stream",
     "text": [
      "[*********************100%***********************]  1 of 1 completed\n",
      "                    Open          High           Low         Close  \\\n",
      "Date                                                                 \n",
      "2022-01-03  19695.000000  19814.000000  19638.050781  19677.949219   \n",
      "2022-01-04  19678.000000  19947.800781  19628.050781  19889.050781   \n",
      "2022-01-05  19874.000000  20025.000000  19829.099609  19935.750000   \n",
      "2022-01-06  19750.099609  19935.750000  19535.000000  19647.550781   \n",
      "2022-01-07  19650.500000  19960.000000  19587.050781  19902.849609   \n",
      "...                  ...           ...           ...           ...   \n",
      "2022-04-18  18300.000000  18686.000000  18300.000000  18561.500000   \n",
      "2022-04-19  18540.500000  18725.000000  17832.250000  17948.599609   \n",
      "2022-04-20  18198.900391  18418.949219  17989.949219  18305.199219   \n",
      "2022-04-21  18051.000000  18567.900391  17751.000000  18202.949219   \n",
      "2022-04-22  18040.099609  18249.449219  17832.099609  18187.750000   \n",
      "\n",
      "               Adj Close  Volume  \n",
      "Date                              \n",
      "2022-01-03  19511.332031   25869  \n",
      "2022-01-04  19720.644531   35034  \n",
      "2022-01-05  19766.949219   32432  \n",
      "2022-01-06  19481.189453   30709  \n",
      "2022-01-07  19734.326172   48983  \n",
      "...                  ...     ...  \n",
      "2022-04-18  18470.240234   53773  \n",
      "2022-04-19  17860.353516   65942  \n",
      "2022-04-20  18215.199219   88177  \n",
      "2022-04-21  18202.949219  185341  \n",
      "2022-04-22  18187.750000  108707  \n",
      "\n",
      "[75 rows x 6 columns]\n"
     ]
    }
   ],
   "source": [
    "data = yf.download(\"NESTLEIND.NS\", start=\"2022-01-01\", end=\"2022-04-25\")\n",
    "print(data)"
   ]
  },
  {
   "cell_type": "code",
   "execution_count": 3,
   "id": "d3b77f80",
   "metadata": {},
   "outputs": [
    {
     "name": "stdout",
     "output_type": "stream",
     "text": [
      "Date\n",
      "2022-01-03    0\n",
      "2022-01-04    0\n",
      "2022-01-05    0\n",
      "2022-01-06    0\n",
      "2022-01-07    0\n",
      "             ..\n",
      "2022-04-18    0\n",
      "2022-04-19    0\n",
      "2022-04-20    0\n",
      "2022-04-21    0\n",
      "2022-04-22    0\n",
      "Length: 75, dtype: int32\n",
      "Date\n",
      "2022-02-15    100\n",
      "dtype: int32\n"
     ]
    }
   ],
   "source": [
    "num = talib.CDLMORNINGSTAR(data['Open'],data['High'], data['Low'],data['Close'])\n",
    "\n",
    "print(num)\n",
    "print(num[num !=0])\n"
   ]
  },
  {
   "cell_type": "code",
   "execution_count": 4,
   "id": "f66928ef",
   "metadata": {},
   "outputs": [
    {
     "name": "stdout",
     "output_type": "stream",
     "text": [
      "Date\n",
      "2022-01-03    0\n",
      "2022-01-04    0\n",
      "2022-01-05    0\n",
      "2022-01-06    0\n",
      "2022-01-07    0\n",
      "             ..\n",
      "2022-04-18    0\n",
      "2022-04-19    0\n",
      "2022-04-20    0\n",
      "2022-04-21    0\n",
      "2022-04-22    0\n",
      "Length: 75, dtype: int32\n",
      "Date\n",
      "2022-02-04    100\n",
      "dtype: int32\n"
     ]
    }
   ],
   "source": [
    "integer = talib.CDLHAMMER(data['Open'],data['High'], data['Low'],data['Close'])\n",
    "print(integer)\n",
    "print(integer[integer != 0])"
   ]
  },
  {
   "cell_type": "code",
   "execution_count": 5,
   "id": "4d562a2b",
   "metadata": {},
   "outputs": [
    {
     "name": "stdout",
     "output_type": "stream",
     "text": [
      "Date\n",
      "2022-01-03    0\n",
      "2022-01-04    0\n",
      "2022-01-05    0\n",
      "2022-01-06    0\n",
      "2022-01-07    0\n",
      "             ..\n",
      "2022-04-18    0\n",
      "2022-04-19    0\n",
      "2022-04-20    0\n",
      "2022-04-21    0\n",
      "2022-04-22    0\n",
      "Length: 75, dtype: int32\n",
      "Series([], dtype: int32)\n"
     ]
    }
   ],
   "source": [
    "evening = talib.CDLEVENINGSTAR(data['Open'],data['High'], data['Low'],data['Close'])\n",
    "print(evening)\n",
    "print(evening[evening != 0])"
   ]
  },
  {
   "cell_type": "code",
   "execution_count": 6,
   "id": "8f15e03c",
   "metadata": {},
   "outputs": [
    {
     "name": "stdout",
     "output_type": "stream",
     "text": [
      "Date\n",
      "2022-01-03      0\n",
      "2022-01-04      0\n",
      "2022-01-05      0\n",
      "2022-01-06      0\n",
      "2022-01-07      0\n",
      "             ... \n",
      "2022-04-18    100\n",
      "2022-04-19      0\n",
      "2022-04-20      0\n",
      "2022-04-21      0\n",
      "2022-04-22      0\n",
      "Length: 75, dtype: int32\n",
      "Date\n",
      "2022-01-21    100\n",
      "2022-02-02   -100\n",
      "2022-02-17   -100\n",
      "2022-02-25   -100\n",
      "2022-03-02    100\n",
      "2022-03-03   -100\n",
      "2022-03-25   -100\n",
      "2022-04-18    100\n",
      "dtype: int32\n"
     ]
    }
   ],
   "source": [
    "engulfing = talib.CDLENGULFING(data['Open'],data['High'], data['Low'],data['Close'])\n",
    "print(engulfing)\n",
    "print(engulfing[engulfing != 0])"
   ]
  },
  {
   "cell_type": "code",
   "execution_count": null,
   "id": "91c44ff8",
   "metadata": {},
   "outputs": [],
   "source": []
  }
 ],
 "metadata": {
  "kernelspec": {
   "display_name": "Python 3 (ipykernel)",
   "language": "python",
   "name": "python3"
  },
  "language_info": {
   "codemirror_mode": {
    "name": "ipython",
    "version": 3
   },
   "file_extension": ".py",
   "mimetype": "text/x-python",
   "name": "python",
   "nbconvert_exporter": "python",
   "pygments_lexer": "ipython3",
   "version": "3.9.7"
  }
 },
 "nbformat": 4,
 "nbformat_minor": 5
}
